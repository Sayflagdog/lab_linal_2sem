{
  "nbformat": 4,
  "nbformat_minor": 0,
  "metadata": {
    "colab": {
      "provenance": []
    },
    "kernelspec": {
      "name": "python3",
      "display_name": "Python 3"
    },
    "language_info": {
      "name": "python"
    }
  },
  "cells": [
    {
      "cell_type": "markdown",
      "source": [
        "#### **Теория**"
      ],
      "metadata": {
        "id": "SKD7350z0J7G"
      }
    },
    {
      "cell_type": "markdown",
      "source": [
        "1. **Центрирование данных** — это предварительная обработка данных, при которой из каждого значения признака (столбца матрицы) вычитается его среднее значение.\n",
        "Формула: X(centr) = X - mean(X)\n",
        "\n",
        "\n",
        "\n",
        "\n",
        "*  Х - исходная матрица данных (размер n х т, где п - число наблюдений, т - число признаков)\n",
        "*  mean(X) - вектор средних значений по каждому столбцу\n",
        "\n",
        "2. **Матрица ковариаций** — это квадратная матрица, которая показывает, как признаки (столбцы данных) изменяются вместе. Она используется для анализа взаимосвязей между переменными, например, в PCA (методе главных компонент).\n",
        "\n",
        "* Формула матрицы ковариаций:\n",
        "$$\n",
        "\\Sigma = \\frac{1}{n - 1} X^\\top X.\n",
        "$$\n",
        "X — центрированная матрица данных размерности n × m, а n — количество объектов.\n",
        "\n",
        "\n",
        "3. Проекция данных — это преобразование исходных данных в новую систему координат, заданную главными компонентами. Формально, если W — матрица, столбцы которой являются собственными векторами ковариационной матрицы, то проекция данных вычисляется как:\n",
        " X(proj) = X(centr) * W\n",
        "\n",
        "\n",
        "* X(centr) - Центрированная матрица данных (размер п Х m),\n",
        "* W - матрица главных компонент (размер т × k, где k - число выбранных компонент),\n",
        "* Х(ргоj) - спроецированные данные (размер п × k).\n",
        "  Новый пункт\n",
        "\n",
        "Чтобы узнать, какую долю данных мы сохранили с помощью k главных компонент, есть формула доли объяснённой дисперсии:\n",
        "$$\n",
        "\\gamma = \\frac{\\sum_{i=1}^{k} \\lambda_i}{\\sum_{i=1}^{m} \\lambda_i}.\n",
        "$$\n",
        "\n"
      ],
      "metadata": {
        "id": "Qn1oI-w-0NOV"
      }
    },
    {
      "cell_type": "markdown",
      "source": [
        "## Дополнительный класс"
      ],
      "metadata": {
        "id": "bxBX4LXxBGWQ"
      }
    },
    {
      "cell_type": "code",
      "source": [
        "from typing import List, Tuple\n",
        "import math"
      ],
      "metadata": {
        "id": "PuCn75Cc2hAM"
      },
      "execution_count": 1,
      "outputs": []
    },
    {
      "cell_type": "code",
      "source": [
        "import csv\n",
        "from matplotlib.figure import Figure\n",
        "import matplotlib.pyplot as plt"
      ],
      "metadata": {
        "id": "MdOcWZQ0z96a"
      },
      "execution_count": 2,
      "outputs": []
    },
    {
      "cell_type": "code",
      "source": [
        "class Matrix:\n",
        "    def __init__(self, data):\n",
        "        # Проверяем, что данные представлены в виде непустого списка списков\n",
        "        if not data or not isinstance(data, list) or any(not isinstance(r, list) for r in data):\n",
        "            raise ValueError(\"Данные должны быть списком списков\")\n",
        "        # Проверяем одинаковую длину строк\n",
        "        first_len = len(data[0])\n",
        "        for r in data:\n",
        "            if len(r) != first_len:\n",
        "                raise ValueError(\"Все строки матрицы должны быть одной длины\")\n",
        "        # Копируем данные\n",
        "        self.data = []\n",
        "        for r in data:\n",
        "            new_row = []\n",
        "            for x in r:\n",
        "                new_row.append(x)\n",
        "            self.data.append(new_row)\n",
        "        self.rows = len(self.data)\n",
        "        self.cols = first_len\n",
        "\n",
        "    def __add__(self, other):\n",
        "        # Проверяем размерности\n",
        "        if self.rows != other.rows or self.cols != other.cols:\n",
        "            raise ValueError(\"Матрицы должны иметь одинаковые размеры\")\n",
        "        # Создаем пустую матрицу результатов\n",
        "        result = Matrix([[0] * self.cols for _ in range(self.rows)])\n",
        "        # Складываем поэлементно\n",
        "        for i in range(self.rows):\n",
        "            for j in range(self.cols):\n",
        "                result.data[i][j] = self.data[i][j] + other.data[i][j]\n",
        "        return result\n",
        "\n",
        "    def __sub__(self, other):\n",
        "        if self.rows != other.rows or self.cols != other.cols:\n",
        "            raise ValueError(\"Матрицы должны иметь одинаковые размеры\")\n",
        "        result = Matrix([[0] * self.cols for _ in range(self.rows)])\n",
        "        for i in range(self.rows):\n",
        "            for j in range(self.cols):\n",
        "                result.data[i][j] = self.data[i][j] - other.data[i][j]\n",
        "        return result\n",
        "\n",
        "    def __mul__(self, scalar):\n",
        "        if not isinstance(scalar, (int, float)):\n",
        "            raise TypeError(\"Можно умножать только на скаляр (int/float)\")\n",
        "        result = Matrix([[0] * self.cols for _ in range(self.rows)])\n",
        "        for i in range(self.rows):\n",
        "            for j in range(self.cols):\n",
        "                result.data[i][j] = self.data[i][j] * scalar\n",
        "        return result\n",
        "\n",
        "    def __matmul__(self, other):\n",
        "        if self.cols != other.rows:\n",
        "            raise ValueError(\n",
        "                \"Количество столбцов первой матрицы должно совпадать с количеством строк второй\"\n",
        "            )\n",
        "        # Результирующая матрица\n",
        "        result = Matrix([[0] * other.cols for _ in range(self.rows)])\n",
        "        # Тройной цикл умножения\n",
        "        for i in range(self.rows):\n",
        "            for j in range(other.cols):\n",
        "                sum_val = 0\n",
        "                for k in range(self.cols):\n",
        "                    sum_val += self.data[i][k] * other.data[k][j]\n",
        "                result.data[i][j] = sum_val\n",
        "        return result\n",
        "\n",
        "    def transpose(self):\n",
        "        # Создаем пустую матрицу нужного размера\n",
        "        transposed_data = [[0] * self.rows for _ in range(self.cols)]\n",
        "        for i in range(self.rows):\n",
        "            for j in range(self.cols):\n",
        "                transposed_data[j][i] = self.data[i][j]\n",
        "        return Matrix(transposed_data)\n",
        "\n",
        "    def minor(self, i, j):\n",
        "        if self.rows != self.cols:\n",
        "            raise ValueError(\"Минор определен только для квадратных матриц\")\n",
        "        new_data = []\n",
        "        for r in range(self.rows):\n",
        "            if r == i:\n",
        "                continue\n",
        "            row_data = []\n",
        "            for c in range(self.cols):\n",
        "                if c == j:\n",
        "                    continue\n",
        "                row_data.append(self.data[r][c])\n",
        "            new_data.append(row_data)\n",
        "        return Matrix(new_data)\n",
        "\n",
        "    def determinant_gauss(self) -> float:\n",
        "        if self.rows != self.cols:\n",
        "            raise ValueError(\"Детерминант определен только для квадратных матриц\")\n",
        "        # Копируем матрицу для работы\n",
        "        mat = []\n",
        "        for r in self.data:\n",
        "            row_copy = []\n",
        "            for x in r:\n",
        "                row_copy.append(x)\n",
        "            mat.append(row_copy)\n",
        "        n = self.rows\n",
        "        det = 1.0\n",
        "        for p in range(n):\n",
        "            # Находим опорный элемент\n",
        "            pivot = p\n",
        "            max_abs = abs(mat[p][p])\n",
        "            for r in range(p+1, n):\n",
        "                if abs(mat[r][p]) > max_abs:\n",
        "                    max_abs = abs(mat[r][p])\n",
        "                    pivot = r\n",
        "            if max_abs < 1e-15:\n",
        "                return 0.0\n",
        "            if pivot != p:\n",
        "                mat[p], mat[pivot] = mat[pivot], mat[p]\n",
        "                det = -det\n",
        "            pv = mat[p][p]\n",
        "            det *= pv\n",
        "            # Исключаем элементы ниже основной диагонали\n",
        "            for r in range(p+1, n):\n",
        "                factor = mat[r][p] / pv\n",
        "                for c in range(p, n):\n",
        "                    mat[r][c] -= factor * mat[p][c]\n",
        "        return det\n",
        "\n",
        "    def determinant(self):\n",
        "        return self.determinant_gauss()\n",
        "\n",
        "    def trace(self):\n",
        "        total = 0\n",
        "        for i in range(min(self.rows, self.cols)):\n",
        "            total += self.data[i][i]\n",
        "        return total\n",
        "\n",
        "    def __getitem__(self, idx):\n",
        "        if isinstance(idx, tuple):\n",
        "            i, j = idx\n",
        "            return self.data[i][j]\n",
        "        return self.data[idx]\n",
        "\n",
        "    def __str__(self):\n",
        "        lines = []\n",
        "        for r in self.data:\n",
        "            row_str = []\n",
        "            for x in r:\n",
        "                row_str.append(str(x))\n",
        "            lines.append(\" \".join(row_str))\n",
        "        return \"\\n\".join(lines)\n",
        "\n",
        "    def row(self, i):\n",
        "        result = []\n",
        "        for x in self.data[i]:\n",
        "            result.append(x)\n",
        "        return result\n",
        "\n",
        "    def col(self, j):\n",
        "        result = []\n",
        "        for i in range(self.rows):\n",
        "            result.append(self.data[i][j])\n",
        "        return result\n",
        "\n",
        "    def copy(self):\n",
        "        copied = []\n",
        "        for r in self.data:\n",
        "            row_copy = []\n",
        "            for x in r:\n",
        "                row_copy.append(x)\n",
        "            copied.append(row_copy)\n",
        "        return Matrix(copied)\n",
        "\n",
        "    def set(self, i, j, value):\n",
        "        self.data[i][j] = value\n",
        "\n",
        "    def swap_rows(self, r1, r2):\n",
        "        self.data[r1], self.data[r2] = self.data[r2], self.data[r1]\n"
      ],
      "metadata": {
        "id": "w53AyAz5X_P9"
      },
      "execution_count": 52,
      "outputs": []
    },
    {
      "cell_type": "markdown",
      "source": [
        "## 1. Easy level"
      ],
      "metadata": {
        "id": "YB9uimG5A30r"
      }
    },
    {
      "cell_type": "markdown",
      "source": [
        "### 1.1 Задание: Реализовать метод Гаусса для решения СЛАУ:"
      ],
      "metadata": {
        "id": "duK3W2oqBMim"
      }
    },
    {
      "cell_type": "markdown",
      "source": [
        "Метод Гаусса — это метод для решения систем линейных алгебраических уравнений (СЛАУ), который основывается на преобразовании системы к верхнетреугольной матрице с помощью элементарных операций над строками.\n",
        "\n",
        "**1. Прямой ход:**\n",
        "- На каждом шаге выбираем ведущий элемент (пивот) в столбце.\n",
        "- Меняем строки местами, если необходимо, чтобы элемент с максимальным абсолютным значением оказался на ведущей позиции.\n",
        "- Приводим все элементы ниже ведущего элемента к нулю с помощью вычитания строк, умноженных на соответствующие коэффициенты.\n",
        "\n",
        "**2. Проверка на несовместность:**\n",
        "- Если после прямого хода получается строка вида [0, 0, ..., 0 | d], где d ≠ 0, система не имеет решений.\n",
        "\n",
        "**3. Обратный ход:**\n",
        "- Начинаем с последней строки и вычисляем значение переменных, подставляя уже найденные решения в предыдущие уравнения.\n",
        "\n",
        "**4. Специфичные случаи:**\n",
        "- **Несовместные системы**: Строка вида [0, 0, ..., 0 | d] где d ≠ 0 означает отсутствие решений.\n",
        "- **Бесконечно много решений**: Строка вида [0, 0, ..., 0 | 0] указывает на бесконечность решений.\n",
        "\n",
        "Алгоритм решения СЛАУ методом Гаусса имеет временную сложность ( O(n^3) ), где ( n ) — количество переменных."
      ],
      "metadata": {
        "id": "qlLMqUZWFeVy"
      }
    },
    {
      "cell_type": "code",
      "execution_count": 5,
      "metadata": {
        "id": "thurfilLpR1f"
      },
      "outputs": [],
      "source": [
        "def gauss_solver(A: 'Matrix', b: 'Matrix') -> List['Matrix']:\n",
        "    \"\"\"\n",
        "    Решение СЛУ методом Гаусса (прямой и обратный ход).\n",
        "    Вход:\n",
        "      A: квадратная матрица коэффициентов (n×n)\n",
        "      b: столбец свободных членов (n×1)\n",
        "    Выход:\n",
        "      [Matrix]: список с единственным решением в виде столбцового вектора\n",
        "    Исключения:\n",
        "      ValueError, если система несовместна\n",
        "    \"\"\"\n",
        "    n = A.rows\n",
        "    eps = 1e-10\n",
        "\n",
        "    # Формируем расширенную матрицу M размера n×(n+1)\n",
        "    M = [ [A[i, j] for j in range(n)] + [b[i, 0]]\n",
        "          for i in range(n) ]\n",
        "\n",
        "    # Прямой ход\n",
        "    for k in range(n):\n",
        "        # выбираем строку с наибольшим по модулю элементом в столбце k\n",
        "        pivot = max(range(k, n), key=lambda r: abs(M[r][k]))\n",
        "        if abs(M[pivot][k]) < eps:\n",
        "            # столбец k практически нулевой — пропускаем\n",
        "            continue\n",
        "        # меняем местами текущую строку и pivot-строку\n",
        "        if pivot != k:\n",
        "            M[k], M[pivot] = M[pivot], M[k]\n",
        "        # нормируем ведущий элемент до 1\n",
        "        lead = M[k][k]\n",
        "        M[k] = [val / lead for val in M[k]]\n",
        "        # вычитаем текущую строку из всех нижестоящих\n",
        "        for i in range(k+1, n):\n",
        "            factor = M[i][k]\n",
        "            if abs(factor) > eps:\n",
        "                M[i] = [M[i][j] - factor * M[k][j] for j in range(n+1)]\n",
        "\n",
        "    # Проверяем на несовместность: (0 ... 0 | d), d != 0\n",
        "    for row in M:\n",
        "        if all(abs(v) < eps for v in row[:-1]) and abs(row[-1]) > eps:\n",
        "            raise ValueError(\"Система несовместна\")\n",
        "\n",
        "    # Обратный ход\n",
        "    x = [0.0] * n\n",
        "    for i in range(n-1, -1, -1):\n",
        "        if abs(M[i][i]) < eps:\n",
        "            continue\n",
        "        rhs = row_val = M[i][n]\n",
        "        # вычитаем вклад уже найденных x[j]\n",
        "        for j in range(i+1, n):\n",
        "            rhs -= M[i][j] * x[j]\n",
        "        x[i] = rhs / M[i][i]\n",
        "\n",
        "    # Возвращаем решение в виде списка из одного вектора-столбца Matrix\n",
        "    return [Matrix([[val] for val in x])]\n"
      ]
    },
    {
      "cell_type": "markdown",
      "source": [
        "### 1.2. Задание: Реализовать функцию центрирования данных:"
      ],
      "metadata": {
        "id": "JZuAJbiHI4uK"
      }
    },
    {
      "cell_type": "markdown",
      "source": [
        "$$\n",
        "X_{\\text{centered}} = X - \\text{mean}(X).\n",
        "$$"
      ],
      "metadata": {
        "id": "QmU4H46UV9ZF"
      }
    },
    {
      "cell_type": "code",
      "source": [
        "def center_data(self) -> 'Matrix':\n",
        "        \"\"\"\n",
        "        Возвращает центрированную версию текущей матрицы (n×m).\n",
        "        Каждая колонка будет иметь среднее значение 0.\n",
        "\n",
        "        Результат:\n",
        "          Matrix размером n×m, в котором из каждого элемента\n",
        "          вычтено среднее по соответствующему столбцу.\n",
        "        \"\"\"\n",
        "        # Вычисляем количество строк и столбцов\n",
        "        rows_count = self.rows\n",
        "        cols_count = self.cols\n",
        "\n",
        "        # Считаем средние по столбцам\n",
        "        column_means = []\n",
        "        for j in range(cols_count):\n",
        "            col_sum = 0.0\n",
        "            for i in range(rows_count):\n",
        "                col_sum += self.data[i][j]\n",
        "            column_means.append(col_sum / rows_count)\n",
        "\n",
        "        # Создаем новую матрицу-результат\n",
        "        centered = []\n",
        "        for i in range(rows_count):\n",
        "            row_centered = []\n",
        "            for j in range(cols_count):\n",
        "                # из каждого элемента вычитаем среднее столбца\n",
        "                row_centered.append(self.data[i][j] - column_means[j])\n",
        "            centered.append(row_centered)\n",
        "\n",
        "        return Matrix(centered)"
      ],
      "metadata": {
        "id": "oHC8rN4fqxgM"
      },
      "execution_count": 6,
      "outputs": []
    },
    {
      "cell_type": "markdown",
      "source": [
        "### 1.3. Задание: Вычислить матрицу ковариаций:"
      ],
      "metadata": {
        "id": "DPZya7QKKU1p"
      }
    },
    {
      "cell_type": "markdown",
      "source": [
        "$$\n",
        "C = \\frac{1}{n-1} X^\\top X.\n",
        "$$"
      ],
      "metadata": {
        "id": "ndcfwUVzWEnb"
      }
    },
    {
      "cell_type": "code",
      "source": [
        "def covariance_matrix(X_centered: 'Matrix') -> 'Matrix':\n",
        "    \"\"\"\n",
        "    Строит матрицу ковариаций для центрированных данных X_centered (n×m).\n",
        "    Возвращает Matrix размера m×m, где элемент (i,j) равен\n",
        "      1/(n-1) * sum_{k=0..n-1} X_centered[k,i] * X_centered[k,j]\n",
        "    \"\"\"\n",
        "    # Определяем размеры\n",
        "    num_rows = X_centered.rows\n",
        "    num_cols = X_centered.cols\n",
        "\n",
        "    # Транспонируем X_centered\n",
        "    X_transposed = X_centered.transpose()\n",
        "\n",
        "    # Формируем пустую матрицу результирующих ковариаций m×m\n",
        "    cov_data = []\n",
        "    for i in range(num_cols):\n",
        "        row = []\n",
        "        for j in range(num_cols):\n",
        "            # вычисляем сумму произведений по всем строкам\n",
        "            acc = 0.0\n",
        "            for k in range(num_rows):\n",
        "                # X_transposed[i,k] == X_centered[k,i]\n",
        "                acc += X_transposed[i, k] * X_centered[k, j]\n",
        "            # нормируем на (n-1)\n",
        "            row.append(acc / (num_rows - 1))\n",
        "        cov_data.append(row)\n",
        "\n",
        "    return Matrix(cov_data)"
      ],
      "metadata": {
        "id": "nzlXCdKG2Ol7"
      },
      "execution_count": 7,
      "outputs": []
    },
    {
      "cell_type": "markdown",
      "source": [
        "## 2. Normal Level"
      ],
      "metadata": {
        "id": "ugDvXaWVKbbw"
      }
    },
    {
      "cell_type": "markdown",
      "source": [
        "### 2.1 Задание: Найти собственные значения матрицы методом бисекции"
      ],
      "metadata": {
        "id": "gWj6PXbnKpsp"
      }
    },
    {
      "cell_type": "markdown",
      "source": [
        "\n",
        "Метод бисекции используется для нахождения корней уравнения det(C - λI) = 0., где C — матрица, λ — собственные значения, а I — единичная матрица. Для нахождения всех собственных значений матрицы, выполняются следующие шаги:\n",
        "\n",
        "1. **Оценка интервала методом Гершгорина**:\n",
        "   Метод Гершгорина дает интервал [a, b], на котором находятся все собственные значения матрицы. Радиус окружности для строки i вычисляется как сумма абсолютных значений всех элементов в строке, не включая диагональный элемент:\n",
        "   $$\n",
        "   R_i = \\sum_{j \\neq i} |c_{ij}|\n",
        "   $$\n",
        "   Собственные значения лежат внутри интервала c_{ii} - R_{i}, c_{ii} + R_{i}.\n",
        "\n",
        "2. **Поиск корней методом бисекции**:\n",
        "   После получения интервала \\( [a, b] \\), метод бисекции используется для нахождения корней функции f(λ) = det(C - λI). Метод бисекции заключается в последовательном делении интервала пополам, пока не будет достигнута нужная точность.\n",
        "\n",
        "3. **Вычисление детерминанта**:\n",
        "   Для каждой итерации метода бисекции вычисляется детерминант матрицы C - λI. Для этого используются стандартные численные методы, такие как разложение по строкам.\n",
        "\n",
        "Метод бисекции гарантированно находит корни, если функция непрерывна и меняет знак на интервале. Однако вычисление детерминанта может быть дорогим для больших матриц."
      ],
      "metadata": {
        "id": "o8WYmok3L5XK"
      }
    },
    {
      "cell_type": "code",
      "source": [
        "def bisection_method(func, a, b, epsilon):\n",
        "    \"\"\"\n",
        "    Находит один корень func(x)=0 на [a, b] методом бисекции.\n",
        "    Возвращает значение корня или None, если на отрезке нет смены знака.\n",
        "    \"\"\"\n",
        "    left, right = a, b\n",
        "    f_left, f_right = func(left), func(right)\n",
        "    # Проверка наличия корня\n",
        "    if f_left * f_right > 0:\n",
        "        return None\n",
        "\n",
        "    # Итерации до достижения требуемой точности\n",
        "    while (right - left) > 2 * epsilon:\n",
        "        mid = (left + right) / 2\n",
        "        f_mid = func(mid)\n",
        "        # Если достаточно близко к нулю, возвращаем mid\n",
        "        if abs(f_mid) < 1e-14:\n",
        "            return mid\n",
        "        # Сужаем интервал\n",
        "        if f_left * f_mid <= 0:\n",
        "            right, f_right = mid, f_mid\n",
        "        else:\n",
        "            left, f_left = mid, f_mid\n",
        "    # Возвращаем центр последнего отрезка\n",
        "    return (left + right) / 2\n",
        "\n",
        "\n",
        "def find_all_roots(func, a, b, epsilon, tol=1e-5, step=0.1):\n",
        "    \"\"\"\n",
        "    Находит все корни func(x)=0 на [a, b].\n",
        "    Разбивает интервал на куски длины step,\n",
        "    на каждом проверяет смену знака и уточняет корень.\n",
        "    \"\"\"\n",
        "    roots = []\n",
        "    # Формируем точки разбиения\n",
        "    pts = [a + i * step for i in range(int((b - a) / step) + 1)]\n",
        "    if pts[-1] < b:\n",
        "        pts.append(b)\n",
        "\n",
        "    # Проверяем каждый соседний отрезок\n",
        "    for start, end in zip(pts, pts[1:]):\n",
        "        f_s, f_e = func(start), func(end)\n",
        "        if f_s * f_e <= 0:\n",
        "            r = bisection_method(func, start, end, epsilon)\n",
        "            if r is None:\n",
        "                continue\n",
        "            # Проверка, что корень уникален\n",
        "            if all(abs(r - existing) > tol for existing in roots):\n",
        "                roots.append(r)\n",
        "    # Сортируем и возвращаем\n",
        "    roots.sort()\n",
        "    return roots"
      ],
      "metadata": {
        "id": "9hXb0Vwt2Nl2"
      },
      "execution_count": 8,
      "outputs": []
    },
    {
      "cell_type": "code",
      "source": [
        "def direct_det_func(C, x):\n",
        "    \"\"\"\n",
        "    Вычисляет определитель матрицы (C - xI) без явной сборки нового массива.\n",
        "\n",
        "    Аргументы:\n",
        "      C: Matrix (n×n)\n",
        "      x: число, вычитаемое из диагональных элементов\n",
        "    Возвращает:\n",
        "      float — det(C - xI)\n",
        "    \"\"\"\n",
        "    # Делаем поверхностную копию матрицы, чтобы не менять исходную\n",
        "    M = C.copy()\n",
        "    size = M.rows\n",
        "\n",
        "    # Вычитаем x из каждого диагонального элемента\n",
        "    for idx in range(size):\n",
        "        orig = M[idx, idx]\n",
        "        M.set(idx, idx, orig - x)\n",
        "\n",
        "    # Считаем детерминант получившейся матрицы\n",
        "    return M.determinant()"
      ],
      "metadata": {
        "id": "tfA1ZYzjrwty"
      },
      "execution_count": 9,
      "outputs": []
    },
    {
      "cell_type": "code",
      "source": [
        "def gershgorin_interval(C, eps=1e-6):\n",
        "    \"\"\"\n",
        "    Находит оценочный интервал, содержащий все собственные\n",
        "    значения матрицы C по теореме Гершгорина.\n",
        "    \"\"\"\n",
        "    # Собираем границы дисков для каждой строки\n",
        "    lower_bounds = []\n",
        "    upper_bounds = []\n",
        "\n",
        "    for i, row in enumerate(C.data):\n",
        "        center = row[i]\n",
        "        # сумма модулей внедиагональных элементов\n",
        "        radius = 0.0\n",
        "        for j, val in enumerate(row):\n",
        "            if j != i:\n",
        "                radius += abs(val)\n",
        "        lower_bounds.append(center - radius)\n",
        "        upper_bounds.append(center + radius)\n",
        "\n",
        "    # Интервал от наименьшей нижней границы до наибольшей верхней\n",
        "    interval_min = min(lower_bounds) - eps\n",
        "    interval_max = max(upper_bounds) + eps\n",
        "    return interval_min, interval_max"
      ],
      "metadata": {
        "id": "HM7XfGh1r2lU"
      },
      "execution_count": 10,
      "outputs": []
    },
    {
      "cell_type": "code",
      "source": [
        "def find_eigenvalues(C: 'Matrix', tol: float = 1e-6) -> List[float]:\n",
        "    \"\"\"\n",
        "    Вычисляет собственные значения матрицы C через поиск корней характеристического многочлена.\n",
        "\n",
        "    Параметры:\n",
        "        C: квадратная матрица (m×m)\n",
        "        tol: допустимая погрешность вычислений\n",
        "\n",
        "    Возвращает:\n",
        "        Список собственных значений в порядке возрастания\n",
        "    \"\"\"\n",
        "    # 1. Определяем интервал поиска через теорему Гершгорина\n",
        "    lower_bound, upper_bound = gershgorin_interval(C, eps=tol)\n",
        "\n",
        "    # 2. Оптимизируем шаг разбиения интервала\n",
        "    interval_size = upper_bound - lower_bound\n",
        "    step_size = max(interval_size * 0.001, tol * 10)\n",
        "\n",
        "    # 3. Лямбда-функция для вычисления определителя\n",
        "    det_function = lambda x: direct_det_func(C, x)\n",
        "\n",
        "    # 4. Находим корни характеристического уравнения\n",
        "    eigenvalues = find_all_roots(\n",
        "        det_function,\n",
        "        lower_bound,\n",
        "        upper_bound,\n",
        "        epsilon=tol,\n",
        "        step=step_size,\n",
        "        tol=tol\n",
        "    )\n",
        "\n",
        "    eigenvalues.sort()\n",
        "\n",
        "    return eigenvalues"
      ],
      "metadata": {
        "id": "o3bkhZxr2H-J"
      },
      "execution_count": 64,
      "outputs": []
    },
    {
      "cell_type": "markdown",
      "source": [
        "### 2.2. Задание: Найтисобственные векторы матрицы"
      ],
      "metadata": {
        "id": "mWTI1peqNqgg"
      }
    },
    {
      "cell_type": "markdown",
      "source": [
        "$$\n",
        "(C - \\lambda I)v = 0.\n",
        "$$"
      ],
      "metadata": {
        "id": "skaYqiQsWNDb"
      }
    },
    {
      "cell_type": "code",
      "source": [
        "def find_eigenvectors(C: 'Matrix', eigenvalues: List[float]) -> List['Matrix']:\n",
        "    \"\"\"\n",
        "    Находит собственные векторы для матрицы C при заданных\n",
        "    собственных значениях методом решения однородных систем.\n",
        "\n",
        "    Аргументы:\n",
        "      C            — Matrix размера m×m\n",
        "      eigenvalues  — список чисел (собственных значений)\n",
        "\n",
        "    Возвращает:\n",
        "      список объектов Matrix (каждый — столбцовый вектор m×1)\n",
        "    \"\"\"\n",
        "    dim = C.rows\n",
        "    vectors = []\n",
        "\n",
        "    for lam in eigenvalues:\n",
        "        # Копируем C и вычитаем λ на диагонали\n",
        "        M = C.copy()\n",
        "        for i in range(dim):\n",
        "            M.set(i, i, M[i, i] - lam)\n",
        "\n",
        "        # Формируем нулевой вектор правых частей\n",
        "        zero_rhs = Matrix([[0.0] for _ in range(dim)])\n",
        "\n",
        "        # Решаем однородную систему (столбец-решение)\n",
        "        sol_list = gauss_solver(M, zero_rhs)\n",
        "        # Берем первый (и единственный) вектор из результата\n",
        "        vectors.append(sol_list[0])\n",
        "\n",
        "    return vectors\n"
      ],
      "metadata": {
        "id": "8J10IKll2IsV"
      },
      "execution_count": 12,
      "outputs": []
    },
    {
      "cell_type": "markdown",
      "source": [
        "### 2.3. Задание : Вычислить долю объяснённой дисперсии:"
      ],
      "metadata": {
        "id": "HgK1H19rNxBr"
      }
    },
    {
      "cell_type": "markdown",
      "source": [
        "$$\n",
        "\\gamma = \\frac{\\sum_{i=1}^{k} \\lambda_i}{\\sum_{i=1}^{m} \\lambda_i}.\n",
        "$$"
      ],
      "metadata": {
        "id": "E_--EbfqWS61"
      }
    },
    {
      "cell_type": "code",
      "source": [
        "def explained_variance_ratio(eigenvalues: List[float], k: int) -> float:\n",
        "    \"\"\"\n",
        "    Вычисляет долю дисперсии, объясняемую первыми k компонентами.\n",
        "\n",
        "    Аргументы:\n",
        "      eigenvalues — непустой список вещественных собственных значений\n",
        "      k           — количество главных компонент (1 ≤ k ≤ len(eigenvalues))\n",
        "\n",
        "    Возвращает:\n",
        "      float — отношение суммы k наибольших собственных значений к общей сумме\n",
        "    \"\"\"\n",
        "    count = len(eigenvalues)\n",
        "    if count == 0:\n",
        "        raise ValueError(\"Нет собственных значений для расчёта\")\n",
        "    if k < 1 or k > count:\n",
        "        raise ValueError(f\"Значение k должно быть от 1 до {count}, получено {k}\")\n",
        "\n",
        "    # Сумма всех собственных значений\n",
        "    total_variance = 0.0\n",
        "    for val in eigenvalues:\n",
        "        total_variance += val\n",
        "    if abs(total_variance) < 1e-15:\n",
        "        raise ValueError(\"Нулевая общая дисперсия, деление невозможно\")\n",
        "\n",
        "    # Находим k крупнейших значений без изменения исходного списка\n",
        "    # Простейший подход — копирование и сортировка\n",
        "    temp = eigenvalues.copy()\n",
        "    temp.sort(reverse=True)\n",
        "\n",
        "    # Сумма объяснённой дисперсии по первым k\n",
        "    explained_sum = 0.0\n",
        "    for idx in range(k):\n",
        "        explained_sum += temp[idx]\n",
        "\n",
        "    # Доля объяснённой дисперсии\n",
        "    ratio = explained_sum / total_variance\n",
        "    return ratio"
      ],
      "metadata": {
        "id": "QmbeVl0r6hbo"
      },
      "execution_count": 13,
      "outputs": []
    },
    {
      "cell_type": "markdown",
      "source": [
        "## 3. Hard Level + 4. Expert level"
      ],
      "metadata": {
        "id": "8AlLUnM8RAnM"
      }
    },
    {
      "cell_type": "markdown",
      "source": [
        "### 4.1 Задание (Expert): Добавить автоматический выбор числа главных компонент"
      ],
      "metadata": {
        "id": "wtEEDoaFSO_r"
      }
    },
    {
      "cell_type": "markdown",
      "source": [
        "$$\n",
        "k = \\min \\left\\{ k : \\frac{\\sum_{i=1}^{k} \\lambda_i}{\\sum_{i=1}^{m} \\lambda_i} \\ge \\text{threshold} \\right\\}.\n",
        "$$"
      ],
      "metadata": {
        "id": "2Va4PvNhWefJ"
      }
    },
    {
      "cell_type": "code",
      "source": [
        "def auto_select_k(eigenvalues: List[float], threshold: float = 0.95) -> int:\n",
        "    \"\"\"\n",
        "    Выбирает число компонент k так, чтобы накопленная дисперсия\n",
        "    достигала заданного порога.\n",
        "\n",
        "    Аргументы:\n",
        "      eigenvalues — список собственных значений\n",
        "      threshold   — целевое отношение объяснённой дисперсии (0 < threshold ≤ 1)\n",
        "\n",
        "    Возвращает:\n",
        "      k — минимальное число компонент, при котором отношение\n",
        "          объяснённой дисперсии ≥ threshold\n",
        "    \"\"\"\n",
        "    # Проверяем входные данные\n",
        "    count = len(eigenvalues)\n",
        "    if count == 0:\n",
        "        raise ValueError(\"Нет собственных значений для выбора k\")\n",
        "    if threshold <= 0 or threshold > 1:\n",
        "        raise ValueError(f\"Порог должен лежать в (0,1], получен {threshold}\")\n",
        "\n",
        "    # Считаем сумму всех собственных значений\n",
        "    total_sum = 0.0\n",
        "    for val in eigenvalues:\n",
        "        total_sum += val\n",
        "    if abs(total_sum) < 1e-14:\n",
        "        raise ValueError(\"Общая дисперсия равна нулю, нормировка невозможна\")\n",
        "\n",
        "    # Накопленный счётчик дисперсии\n",
        "    cumulative = 0.0\n",
        "    # Проходим по всем собственным значениям последовательно\n",
        "    for index in range(count):\n",
        "        cumulative += eigenvalues[index]\n",
        "        current_ratio = cumulative / total_sum\n",
        "        # Как только достигнут порог — возвращаем текущее число компонент\n",
        "        if current_ratio >= threshold:\n",
        "            # index отсчитывает от 0, поэтому +1\n",
        "            return index + 1\n",
        "\n",
        "    # Если даже все компоненты не покрыли порог, возвращаем максимум\n",
        "    return count"
      ],
      "metadata": {
        "id": "5ocSr_XK_LvQ"
      },
      "execution_count": 14,
      "outputs": []
    },
    {
      "cell_type": "markdown",
      "source": [
        "### 4.2 Задание (Expert): Обработать пропущенные значения в данных"
      ],
      "metadata": {
        "id": "fwB18BbaLG6Q"
      }
    },
    {
      "cell_type": "markdown",
      "source": [
        "$$\n",
        "X_{\\text{filled}} = \\begin{cases}\n",
        "X_{ij}, & \\text{если } X_{ij} \\neq \\text{NaN}, \\\\\n",
        "\\text{mean}(X_j), & \\text{иначе}.\n",
        "\\end{cases}\n",
        "$$"
      ],
      "metadata": {
        "id": "leD0Z5baWh6C"
      }
    },
    {
      "cell_type": "code",
      "source": [
        "def handle_missing_values(X: 'Matrix') -> 'Matrix':\n",
        "    \"\"\"\n",
        "    Заменяет пропущенные значения NaN в матрице X\n",
        "    на среднее по соответствующему столбцу.\n",
        "\n",
        "    Аргументы:\n",
        "      X — Matrix размера n×m, содержащая float и NaN\n",
        "    Возвращает:\n",
        "      Matrix n×m без NaN\n",
        "    \"\"\"\n",
        "    # Получаем размеры\n",
        "    num_rows = X.rows\n",
        "    num_cols = X.cols\n",
        "\n",
        "    # Шаг 1: считаем средние по столбцам, игнорируя NaN\n",
        "    col_avgs = []\n",
        "    for j in range(num_cols):\n",
        "        total = 0.0\n",
        "        cnt = 0\n",
        "        for i in range(num_rows):\n",
        "            value = X[i, j]\n",
        "            if not math.isnan(value):\n",
        "                total += value\n",
        "                cnt += 1\n",
        "        if cnt > 0:\n",
        "            col_avgs.append(total / cnt)\n",
        "        else:\n",
        "            # если все элементы NaN, заменяем на 0.0\n",
        "            col_avgs.append(0.0)\n",
        "\n",
        "    # Шаг 2: создаём копию и заполняем пропуски\n",
        "    filled = X.copy()\n",
        "    for row_idx in range(num_rows):\n",
        "        for col_idx in range(num_cols):\n",
        "            current = filled[row_idx, col_idx]\n",
        "            if math.isnan(current):\n",
        "                # подставляем среднее для этого столбца\n",
        "                filled.set(row_idx, col_idx, col_avgs[col_idx])\n",
        "\n",
        "    return filled"
      ],
      "metadata": {
        "id": "hps80waV_Pnc"
      },
      "execution_count": 15,
      "outputs": []
    },
    {
      "cell_type": "markdown",
      "source": [
        "### 3.1 Задание (Hard): Реализовать полный алгоритм PCA"
      ],
      "metadata": {
        "id": "jJ7RyEAJSdhD"
      }
    },
    {
      "cell_type": "markdown",
      "source": [
        "Метод главных компонент (PCA) — это техника снижения размерности, которая находит новые оси, максимально объясняющие дисперсию данных. Алгоритм включает следующие шаги:\n",
        "\n",
        "  1.\tЦентрирование данных: вычитаем среднее значение для каждого признака.\n",
        "  2.\tВычисление ковариационной матрицы: оцениваем взаимосвязь между признаками.\n",
        "  3.\tНахождение собственных значений и векторов: собственные векторы — это главные компоненты, а собственные значения показывают важность этих компонентов.\n",
        "  4.\tПроекция данных: проецируем данные на первые k главных компонент, уменьшая размерность, сохраняя основную информацию.\n",
        "\n",
        "Алгоритм PCA позволяет эффективно уменьшать размерность, сохраняя основную информацию, что полезно для визуализации данных или обучения моделей."
      ],
      "metadata": {
        "id": "ptIBtvw7VBkC"
      }
    },
    {
      "cell_type": "code",
      "source": [
        "def pca(X: Matrix, k: int = None, threshold: float = 0.95) -> Tuple[Matrix, float, int]:\n",
        "    \"\"\"\n",
        "    Выполняет анализ главных компонент:\n",
        "      - центрирование через функцию center_data\n",
        "      - вычисление ковариационной матрицы\n",
        "      - поиск и сортировка собственных значений/векторов\n",
        "      - выбор числа компонент k\n",
        "      - проекция данных и вычисление доли объяснённой дисперсии\n",
        "\n",
        "    Возвращает:\n",
        "      X_proj       — Matrix (n×k)\n",
        "      explained_var — float\n",
        "      k_used       — int\n",
        "    \"\"\"\n",
        "    # Центрирование данных\n",
        "    Xc = center_data(X)\n",
        "    n, m = Xc.rows, Xc.cols\n",
        "\n",
        "    # Ковариационная матрица\n",
        "    C = covariance_matrix(Xc)\n",
        "\n",
        "    # Собственные значения и векторы\n",
        "    evals = find_eigenvalues(C, tol=1e-6)\n",
        "    evecs = find_eigenvectors(C, evals)\n",
        "\n",
        "    # Сортируем по убыванию evals\n",
        "    order = list(range(len(evals)))\n",
        "    for i in range(len(order)-1):\n",
        "        for j in range(i+1, len(order)):\n",
        "            if evals[order[j]] > evals[order[i]]:\n",
        "                order[i], order[j] = order[j], order[i]\n",
        "    sorted_evals = [evals[i] for i in order]\n",
        "    sorted_evecs = [evecs[i] for i in order]\n",
        "\n",
        "    # Выбор k\n",
        "    if k is None:\n",
        "        k = auto_select_k(sorted_evals, threshold)\n",
        "    if k < 1 or k > m:\n",
        "        raise ValueError(f\"k должно быть от 1 до {m}, получено {k}\")\n",
        "\n",
        "    # Формируем матрицу W (m×k)\n",
        "    W_data = [[sorted_evecs[j][i,0] for j in range(k)] for i in range(m)]\n",
        "    W = Matrix(W_data)\n",
        "\n",
        "    # Проекция\n",
        "    X_proj = Xc @ W\n",
        "\n",
        "    # Доля объяснённой дисперсии\n",
        "    total = sum(sorted_evals)\n",
        "    explained = sum(sorted_evals[:k])\n",
        "    explained_var = explained / total if abs(total) > 1e-14 else 1.0\n",
        "\n",
        "    return X_proj, explained_var, k\n"
      ],
      "metadata": {
        "id": "bhvI8qWa7OD_"
      },
      "execution_count": 16,
      "outputs": []
    },
    {
      "cell_type": "markdown",
      "source": [
        "### 3.2 Задание (Hard): Визуализироватьпроекциюданныхнапервые две главные компоненты."
      ],
      "metadata": {
        "id": "I0amzQg1SnHA"
      }
    },
    {
      "cell_type": "code",
      "source": [
        "def plot_pca_projection(X_proj: 'Matrix') -> Figure:\n",
        "    \"\"\"\n",
        "    Строит диаграмму рассеяния первых двух компонент PCA.\n",
        "\n",
        "    Аргументы:\n",
        "      X_proj — Matrix размером n×2\n",
        "    Возвращает:\n",
        "      объект matplotlib.figure.Figure\n",
        "    \"\"\"\n",
        "    # Проверка размерности\n",
        "    if X_proj.cols != 2:\n",
        "        raise ValueError(\n",
        "            f\"Ожидался формат (n×2), получен (n×{X_proj.cols})\"\n",
        "        )\n",
        "\n",
        "    # Извлекаем координаты\n",
        "    num_points = X_proj.rows\n",
        "    x_coords = []\n",
        "    y_coords = []\n",
        "    for i in range(num_points):\n",
        "        # X_proj[i] возвращает строку [x_i, y_i]\n",
        "        row = X_proj[i]\n",
        "        x_coords.append(row[0])\n",
        "        y_coords.append(row[1])\n",
        "\n",
        "    # Создаём фигуру и ось\n",
        "    fig = plt.figure(figsize=(6, 6))\n",
        "    ax = fig.add_subplot(1, 1, 1)\n",
        "\n",
        "    # Рисуем точки без явного задания цвета\n",
        "    ax.scatter(x_coords, y_coords, alpha=0.7)\n",
        "\n",
        "    # Настраиваем подписи\n",
        "    ax.set_xlabel(\"PC1\")\n",
        "    ax.set_ylabel(\"PC2\")\n",
        "    ax.set_title(\"Projection on First Two Principal Components\")\n",
        "\n",
        "    return fig"
      ],
      "metadata": {
        "id": "ClgMOz8H8-OO"
      },
      "execution_count": 17,
      "outputs": []
    },
    {
      "cell_type": "markdown",
      "source": [
        "### 3.3. Задание (Hard): Вычислить среднеквадратическую ошибку восстановления данных:"
      ],
      "metadata": {
        "id": "fpCmiRtMSqum"
      }
    },
    {
      "cell_type": "markdown",
      "source": [
        "$$\n",
        "\\text{MSE} = \\frac{1}{n \\cdot m} \\sum_{i,j} (X_{\\text{orig}} - X_{\\text{recon}})^2.\n",
        "$$"
      ],
      "metadata": {
        "id": "DsmRMg4zWYjU"
      }
    },
    {
      "cell_type": "code",
      "source": [
        "def reconstruction_error(X_orig: 'Matrix', X_recon: 'Matrix') -> float:\n",
        "    \"\"\"\n",
        "    Рассчитывает среднеквадратичную ошибку восстановления данных.\n",
        "\n",
        "    Аргументы:\n",
        "      X_orig  — исходная матрица n×m\n",
        "      X_recon — восстановленная матрица n×m\n",
        "\n",
        "    Возвращает:\n",
        "      float — MSE (mean squared error)\n",
        "    \"\"\"\n",
        "    # Проверяем соответствие размеров матриц\n",
        "    rows_orig = X_orig.rows\n",
        "    cols_orig = X_orig.cols\n",
        "    if X_recon.rows != rows_orig or X_recon.cols != cols_orig:\n",
        "        raise ValueError(\n",
        "            f\"Размеры восстановленной матрицы {X_recon.rows}×{X_recon.cols}\"\n",
        "            f\" не совпадают с исходной {rows_orig}×{cols_orig}\"\n",
        "        )\n",
        "\n",
        "    # Вычисляем сумму квадратов отклонений\n",
        "    total_error = 0.0\n",
        "    for row_idx in range(rows_orig):\n",
        "        for col_idx in range(cols_orig):\n",
        "            original_value = X_orig[row_idx, col_idx]\n",
        "            reconstructed_value = X_recon[row_idx, col_idx]\n",
        "            delta = original_value - reconstructed_value\n",
        "            total_error += delta * delta\n",
        "\n",
        "    # Нормируем на общее число элементов\n",
        "    mse_value = total_error / (rows_orig * cols_orig)\n",
        "    return mse_value"
      ],
      "metadata": {
        "id": "7gXv2vQC9sll"
      },
      "execution_count": 18,
      "outputs": []
    },
    {
      "cell_type": "markdown",
      "source": [
        "# Тестирование и применение в реальных условиях"
      ],
      "metadata": {
        "id": "GY5fvYqnSz0n"
      }
    },
    {
      "cell_type": "markdown",
      "source": [
        "## Тестирование функций"
      ],
      "metadata": {
        "id": "uZCTomdOTJe6"
      }
    },
    {
      "cell_type": "markdown",
      "source": [
        "Тестирование метода Гаусса для решения СЛАУ"
      ],
      "metadata": {
        "id": "PXolwAgLNPgR"
      }
    },
    {
      "cell_type": "code",
      "source": [
        "def test_gauss_solver():\n",
        "    \"\"\"Тесты для функции gauss_solver с использованием assert.\"\"\"\n",
        "    # Тест 1: определённая совместная СЛАУ\n",
        "    A1 = Matrix([[2, 1], [1, -1]])\n",
        "    b1 = Matrix([[5], [1]])\n",
        "    sol1 = gauss_solver(A1, b1)[0]\n",
        "    assert abs(sol1[0,0] - 2.0) < 1e-6, f\"Test1: x1 = {sol1[0,0]} != 2.0\"\n",
        "    assert abs(sol1[1,0] - 1.0) < 1e-6, f\"Test1: x2 = {sol1[1,0]} != 1.0\"\n",
        "\n",
        "    # Тест 2: несовместная система\n",
        "    A2 = Matrix([[1, 1], [0, 0]])\n",
        "    b2 = Matrix([[2], [1]])\n",
        "    try:\n",
        "        gauss_solver(A2, b2)\n",
        "        assert False, \"Test2: expected ValueError for inconsistent system\"\n",
        "    except ValueError:\n",
        "        pass  # Ожидаемое исключение\n",
        "\n",
        "    # Тест 3: зависимая система (Ax ≈ b)\n",
        "    A3 = Matrix([[1, 2], [2, 4]])\n",
        "    b3 = Matrix([[3], [6]])\n",
        "    sol3 = gauss_solver(A3, b3)[0]\n",
        "    prod3 = A3 @ sol3\n",
        "    for i in range(A3.rows):\n",
        "        assert abs(prod3[i,0] - b3[i,0]) < 1e-6, (\n",
        "            f\"Test3: row {i} returns {prod3[i,0]} != {b3[i,0]}\"\n",
        "        )\n",
        "\n",
        "    # Если дошли до этого места — все тесты пройдены\n",
        "    print(\"All tests passed successfully!\")"
      ],
      "metadata": {
        "id": "OCwxRdhQNp8_"
      },
      "execution_count": 19,
      "outputs": []
    },
    {
      "cell_type": "code",
      "source": [
        "test_gauss_solver()"
      ],
      "metadata": {
        "id": "NqQ45neMRAcB",
        "colab": {
          "base_uri": "https://localhost:8080/"
        },
        "outputId": "bfde2338-1e1f-4b1e-dfc8-4a8d8195069c"
      },
      "execution_count": 20,
      "outputs": [
        {
          "output_type": "stream",
          "name": "stdout",
          "text": [
            "All tests passed successfully!\n"
          ]
        }
      ]
    },
    {
      "cell_type": "markdown",
      "source": [
        "Тестирование центрирования данных"
      ],
      "metadata": {
        "id": "5IQdHxKsNs4-"
      }
    },
    {
      "cell_type": "code",
      "source": [
        "def test_center_data():\n",
        "    \"\"\"\n",
        "    Проверка функции center_data: после центрирования\n",
        "    среднее каждого столбца должно быть ~0.\n",
        "    \"\"\"\n",
        "    X = Matrix([\n",
        "        [1.0, 2.0, 3.0],\n",
        "        [4.0, 5.0, 6.0],\n",
        "        [7.0, 8.0, 9.0]\n",
        "    ])\n",
        "    Xc = center_data(X)\n",
        "\n",
        "    # Убеждаемся, что каждый столбец центрирован\n",
        "    for j in range(X.cols):\n",
        "        mean_val = sum(Xc.col(j)) / Xc.rows\n",
        "        assert abs(mean_val) < 1e-10, \\\n",
        "            f\"Column {j} not centered: mean={mean_val}\"\n",
        "\n",
        "    print(\"test_center_data: all assertions passed\")\n"
      ],
      "metadata": {
        "id": "xvDbc1mMNuVl"
      },
      "execution_count": 21,
      "outputs": []
    },
    {
      "cell_type": "code",
      "source": [
        "test_center_data()"
      ],
      "metadata": {
        "id": "Xuk-UknvRBMX",
        "colab": {
          "base_uri": "https://localhost:8080/"
        },
        "outputId": "e99b1b92-185b-40b8-ad88-d4335666c77c"
      },
      "execution_count": 22,
      "outputs": [
        {
          "output_type": "stream",
          "name": "stdout",
          "text": [
            "test_center_data: all assertions passed\n"
          ]
        }
      ]
    },
    {
      "cell_type": "markdown",
      "source": [
        "Тестирование вычисления матрицы ковариаций"
      ],
      "metadata": {
        "id": "vqxfz3axNv-w"
      }
    },
    {
      "cell_type": "code",
      "source": [
        "def test_covariance_matrix():\n",
        "    \"\"\"\n",
        "    Проверяет правильность функции covariance_matrix на заранее заданных данных.\n",
        "    \"\"\"\n",
        "    Xc = Matrix([\n",
        "        [1.0, -1.0,  4.0],\n",
        "        [-3.0, 2.0,  0.0],\n",
        "        [2.0,  0.0, -1.0]\n",
        "    ])\n",
        "    C = covariance_matrix(Xc)\n",
        "\n",
        "    # Ожидаемая матрица ковариаций\n",
        "    expected = Matrix([\n",
        "        [ 7.0, -3.5,  1.0],\n",
        "        [-3.5,  2.5, -2.0],\n",
        "        [ 1.0, -2.0,  8.5]\n",
        "    ])\n",
        "\n",
        "    # Проверяем каждый элемент\n",
        "    for i in range(C.rows):\n",
        "        for j in range(C.cols):\n",
        "            actual = C[i, j]\n",
        "            target = expected[i, j]\n",
        "            assert abs(actual - target) < 1e-6, \\\n",
        "                f\"Mismatch at ({i},{j}): got {actual}, expected {target}\"\n",
        "\n",
        "    print(\"test_covariance_matrix: all assertions passed\")"
      ],
      "metadata": {
        "id": "Bds-FLDhNxSr"
      },
      "execution_count": 23,
      "outputs": []
    },
    {
      "cell_type": "code",
      "source": [
        "test_covariance_matrix()"
      ],
      "metadata": {
        "id": "YOAOn5rzRJpz",
        "colab": {
          "base_uri": "https://localhost:8080/"
        },
        "outputId": "75c84988-9999-43e4-817b-bce19354658a"
      },
      "execution_count": 24,
      "outputs": [
        {
          "output_type": "stream",
          "name": "stdout",
          "text": [
            "test_covariance_matrix: all assertions passed\n"
          ]
        }
      ]
    },
    {
      "cell_type": "markdown",
      "source": [
        "Тестирование поиска собственных значений и векторов"
      ],
      "metadata": {
        "id": "MFVEZsOxNzrl"
      }
    },
    {
      "cell_type": "code",
      "source": [
        "def test_eigen():\n",
        "    \"\"\"\n",
        "    Тестирование функций find_eigenvalues и find_eigenvectors.\n",
        "    Проверяем корректность на разных симметричных матрицах.\n",
        "    \"\"\"\n",
        "    tol = 1e-6\n",
        "\n",
        "    # --- Тест 1: матрица [[2,1],[1,2]] → собственные значения [1,3] ---\n",
        "    C1 = Matrix([[2.0,1.0],[1.0,2.0]])\n",
        "    vals1 = sorted(find_eigenvalues(C1, tol))\n",
        "    assert len(vals1) == 2, f\"Тест 1: ожидалось 2 значения, получено {len(vals1)}\"\n",
        "    assert abs(vals1[0] - 1.0) < tol and abs(vals1[1] - 3.0) < tol, \\\n",
        "        f\"Тест 1: получено {vals1}, ожидалось [1.0, 3.0]\"\n",
        "\n",
        "    # --- Тест 2: диагональная матрица [[3,0],[0,5]] → [3,5] ---\n",
        "    C2 = Matrix([[3.0,0.0],[0.0,5.0]])\n",
        "    vals2 = sorted(find_eigenvalues(C2, tol))\n",
        "    assert len(vals2) == 2, f\"Тест 2: ожидалось 2 значения, получено {len(vals2)}\"\n",
        "    assert abs(vals2[0] - 3.0) < tol and abs(vals2[1] - 5.0) < tol, \\\n",
        "        f\"Тест 2: получено {vals2}, ожидалось [3.0, 5.0]\"\n",
        "\n",
        "    # --- Тест 3: блочно-диагональная матрица [[1,2,0],[2,5,0],[0,0,2]] ---\n",
        "    C3 = Matrix([\n",
        "        [1.0,2.0,0.0],\n",
        "        [2.0,5.0,0.0],\n",
        "        [0.0,0.0,2.0]\n",
        "    ])\n",
        "    # собственные значения 2×2 блока: (6±√32)/2 = 3±2√2\n",
        "    base = 3.0\n",
        "    rad = 2.0 * math.sqrt(2)\n",
        "    eig_low = base - rad\n",
        "    eig_high = base + rad\n",
        "    expected3 = sorted([eig_low, 2.0, eig_high])\n",
        "    vals3 = sorted(find_eigenvalues(C3, tol))\n",
        "    assert len(vals3) == 3, f\"Тест 3: ожидалось 3 значения, получено {len(vals3)}\"\n",
        "    for exp, act in zip(expected3, vals3):\n",
        "        assert abs(act - exp) < tol, \\\n",
        "            f\"Тест 3: получено {vals3}, ожидалось приблизительно {expected3}\"\n",
        "\n",
        "    # --- Тесты 4-6: проверка уравнения C*v = λ*v ---\n",
        "    matrices = [\n",
        "        Matrix([[4,2,2],[2,5,3],[2,3,6]]),\n",
        "        Matrix([[2,1,1],[1,2,1],[1,1,2]]),\n",
        "        Matrix([[0,0,0],[0,0,0],[0,0,0]])\n",
        "    ]\n",
        "    tolerances = [1e-3, 1e-3, 1e-6]\n",
        "\n",
        "    for idx, (C, tol_v) in enumerate(zip(matrices, tolerances), start=4):\n",
        "        vals = find_eigenvalues(C, tol)\n",
        "        vecs = find_eigenvectors(C, vals)\n",
        "        assert len(vals) == len(vecs), \\\n",
        "            f\"Тест {idx}: число значений ({len(vals)}) не соответствует числу векторов ({len(vecs)})\"\n",
        "        for lam, vec in zip(vals, vecs):\n",
        "            Cv = C @ vec\n",
        "            lamv = vec * lam\n",
        "            for i in range(vec.rows):\n",
        "                diff = abs(Cv[i,0] - lamv[i,0])\n",
        "                assert diff < tol_v, \\\n",
        "                    f\"Тест {idx}: несоответствие C*v и λ*v, λ={lam}, индекс={i}, разница={diff:.6f}\"\n",
        "\n",
        "    print(\"test_eigen: все проверки пройдены успешно\")"
      ],
      "metadata": {
        "id": "PViiX3SMN3Gk"
      },
      "execution_count": 25,
      "outputs": []
    },
    {
      "cell_type": "code",
      "source": [
        "test_eigen()"
      ],
      "metadata": {
        "id": "cLsafhVGRN5Y",
        "colab": {
          "base_uri": "https://localhost:8080/"
        },
        "outputId": "4781b4d1-84e8-435e-fa6a-07df38ce9e7e"
      },
      "execution_count": 26,
      "outputs": [
        {
          "output_type": "stream",
          "name": "stdout",
          "text": [
            "test_eigen: все проверки пройдены успешно\n"
          ]
        }
      ]
    },
    {
      "cell_type": "markdown",
      "source": [
        "Тестирование доли объяснённой дисперсии"
      ],
      "metadata": {
        "id": "rfCejTJtN4Ve"
      }
    },
    {
      "cell_type": "code",
      "source": [
        "def test_explained_variance_ratio():\n",
        "    \"\"\"\n",
        "    Тесты для функции explained_variance_ratio с использованием assert.\n",
        "    \"\"\"\n",
        "    # Test 1: [2,1], k=1 → 2/3\n",
        "    ev = [2.0, 1.0]\n",
        "    r1 = explained_variance_ratio(ev, 1)\n",
        "    assert abs(r1 - (2/3)) < 1e-6, f\"Test1: ratio={r1}, expected={2/3}\"\n",
        "\n",
        "    # Test 2: [2,1], k=2 → 1.0\n",
        "    r2 = explained_variance_ratio(ev, 2)\n",
        "    assert abs(r2 - 1.0) < 1e-9, f\"Test2: ratio={r2}, expected=1.0\"\n",
        "\n",
        "    # Test 3: [3,5], k=1 → 5/8\n",
        "    ev2 = [3.0, 5.0]\n",
        "    r3 = explained_variance_ratio(ev2, 1)\n",
        "    assert abs(r3 - (5/8)) < 1e-9, f\"Test3: ratio={r3}, expected={5/8}\"\n",
        "\n",
        "    # Test 4: [1,4,2], k=2 → 6/7\n",
        "    ev3 = [1.0, 4.0, 2.0]\n",
        "    r4 = explained_variance_ratio(ev3, 2)\n",
        "    assert abs(r4 - (6/7)) < 1e-9, f\"Test4: ratio={r4}, expected={6/7}\"\n",
        "\n",
        "    # Test 5: zero sum → ValueError\n",
        "    try:\n",
        "        explained_variance_ratio([0.0, 0.0], 1)\n",
        "        assert False, \"Test5: expected ValueError for zero total\"\n",
        "    except ValueError:\n",
        "        pass\n",
        "\n",
        "    # Test 6: k > len → ValueError\n",
        "    try:\n",
        "        explained_variance_ratio([1.0,2.0,3.0], 4)\n",
        "        assert False, \"Test6: expected ValueError for k>m\"\n",
        "    except ValueError:\n",
        "        pass\n",
        "\n",
        "    # Test 7: k <= 0 → ValueError\n",
        "    try:\n",
        "        explained_variance_ratio([1.0,2.0,3.0], 0)\n",
        "        assert False, \"Test7: expected ValueError for k<=0\"\n",
        "    except ValueError:\n",
        "        pass\n",
        "\n",
        "    print(\"test_explained_variance_ratio: all assertions passed\")\n"
      ],
      "metadata": {
        "id": "jc3KdcwYN9Vr"
      },
      "execution_count": 27,
      "outputs": []
    },
    {
      "cell_type": "code",
      "source": [
        "test_explained_variance_ratio()"
      ],
      "metadata": {
        "id": "61Yuhik8RRQk",
        "colab": {
          "base_uri": "https://localhost:8080/"
        },
        "outputId": "912e4f52-45dd-45ac-fc6a-88f5e0e37846"
      },
      "execution_count": 28,
      "outputs": [
        {
          "output_type": "stream",
          "name": "stdout",
          "text": [
            "test_explained_variance_ratio: all assertions passed\n"
          ]
        }
      ]
    },
    {
      "cell_type": "markdown",
      "source": [
        "Тестирование вычисления среднеквадратичной ошибки восстановления"
      ],
      "metadata": {
        "id": "6qlW6sn0OPuB"
      }
    },
    {
      "cell_type": "code",
      "source": [
        "def test_reconstruction_error():\n",
        "    \"\"\"\n",
        "    Проверяет функцию reconstruction_error на заранее заданных данных.\n",
        "    \"\"\"\n",
        "    # Исходные и восстановленные данные\n",
        "    X_orig = Matrix([\n",
        "        [2.0, 1.0],\n",
        "        [3.0, 1.5]\n",
        "    ])\n",
        "    X_recon = Matrix([\n",
        "        [1.8, 0.9],\n",
        "        [2.5, 1.4]\n",
        "    ])\n",
        "\n",
        "    # Расчёт и ожидаемый результат\n",
        "    mse = reconstruction_error(X_orig, X_recon)\n",
        "    expected = (0.2**2 + 0.1**2 + 0.5**2 + 0.1**2) / 4  # 0.0775\n",
        "    assert abs(mse - expected) < 1e-8, \\\n",
        "        f\"Test Reconstruction Error: got {mse}, expected {expected}\"\n",
        "\n",
        "    # Проверка на несовпадающие размеры (должно бросить ValueError)\n",
        "    X_bad = Matrix([[1.0]])\n",
        "    try:\n",
        "        reconstruction_error(X_orig, X_bad)\n",
        "        assert False, \"Expected ValueError for mismatched dimensions\"\n",
        "    except ValueError:\n",
        "        pass\n",
        "\n",
        "    print(\"test_reconstruction_error: all assertions passed\")"
      ],
      "metadata": {
        "id": "4wgQUz8eOPWZ"
      },
      "execution_count": 29,
      "outputs": []
    },
    {
      "cell_type": "code",
      "source": [
        "test_reconstruction_error()"
      ],
      "metadata": {
        "id": "w6S1bklnRex3",
        "colab": {
          "base_uri": "https://localhost:8080/"
        },
        "outputId": "7e598b36-68f1-4cd3-eb66-6a4315edbccf"
      },
      "execution_count": 30,
      "outputs": [
        {
          "output_type": "stream",
          "name": "stdout",
          "text": [
            "test_reconstruction_error: all assertions passed\n"
          ]
        }
      ]
    },
    {
      "cell_type": "markdown",
      "source": [
        "Tестирование функции автоматического выбора k (число главных компонент)"
      ],
      "metadata": {
        "id": "n_wvJKT0Q0kt"
      }
    },
    {
      "cell_type": "code",
      "source": [
        "def test_auto_select_k():\n",
        "    \"\"\"\n",
        "    Тесты для функции auto_select_k с использованием assert.\n",
        "    \"\"\"\n",
        "    # Test 1: threshold=0.9 -> k=3\n",
        "    ev = [5.0, 3.0, 1.5, 0.5]  # sum=10\n",
        "    k1 = auto_select_k(ev, threshold=0.9)\n",
        "    assert k1 == 3, f\"Test1: expected k=3, got {k1}\"\n",
        "\n",
        "    # Test 2: threshold=0.8 -> k=2\n",
        "    k2 = auto_select_k(ev, threshold=0.8)\n",
        "    assert k2 == 2, f\"Test2: expected k=2, got {k2}\"\n",
        "\n",
        "    # Test 3: threshold=0.99 -> k=4\n",
        "    k3 = auto_select_k(ev, threshold=0.99)\n",
        "    assert k3 == 4, f\"Test3: expected k=4, got {k3}\"\n",
        "\n",
        "    # Test 4: empty list -> ValueError\n",
        "    try:\n",
        "        auto_select_k([], threshold=0.95)\n",
        "        assert False, \"Test4: expected ValueError for empty eigenvalues\"\n",
        "    except ValueError:\n",
        "        pass\n",
        "\n",
        "    # Test 5: threshold out of (0,1] -> ValueError\n",
        "    try:\n",
        "        auto_select_k([1.0,2.0], threshold=1.5)\n",
        "        assert False, \"Test5: expected ValueError for threshold>1\"\n",
        "    except ValueError:\n",
        "        pass\n",
        "\n",
        "    # Test 6: threshold <=0 -> ValueError\n",
        "    try:\n",
        "        auto_select_k([1.0,2.0], threshold=0)\n",
        "        assert False, \"Test6: expected ValueError for threshold<=0\"\n",
        "    except ValueError:\n",
        "        pass\n",
        "\n",
        "    print(\"test_auto_select_k: all assertions passed\")"
      ],
      "metadata": {
        "id": "MuquQNSbQ6zY"
      },
      "execution_count": 31,
      "outputs": []
    },
    {
      "cell_type": "code",
      "source": [
        "test_auto_select_k()"
      ],
      "metadata": {
        "id": "DOChZdv8RUHc",
        "colab": {
          "base_uri": "https://localhost:8080/"
        },
        "outputId": "485d2b64-806a-47c5-a7e4-a7d2cf274441"
      },
      "execution_count": 32,
      "outputs": [
        {
          "output_type": "stream",
          "name": "stdout",
          "text": [
            "test_auto_select_k: all assertions passed\n"
          ]
        }
      ]
    },
    {
      "cell_type": "markdown",
      "source": [
        "Тестирование авто-выбора k в PCA"
      ],
      "metadata": {
        "id": "9o7f6PLhN_3A"
      }
    },
    {
      "cell_type": "code",
      "source": [
        "def test_pca_auto_k():\n",
        "    \"\"\"\n",
        "    Проверяет автоматический выбор k и корректность размеров проекции от PCA.\n",
        "    \"\"\"\n",
        "    # Подготовка тестовой матрицы (4×3)\n",
        "    X = Matrix([\n",
        "        [2.0, 1.0, 0.0],\n",
        "        [1.5, 2.2, 0.0],\n",
        "        [3.0, 4.0, 1.0],\n",
        "        [2.1, 2.5, 0.5]\n",
        "    ])\n",
        "\n",
        "    # Запуск PCA без явного указания k (threshold=0.9)\n",
        "    X_proj, gamma, k_val = pca(X, k=None, threshold=0.9)\n",
        "\n",
        "    # Проверяем диапазон k\n",
        "    assert 1 <= k_val <= X.cols, \\\n",
        "        f\"test_pca_auto_k: k={k_val} вне диапазона [1..{X.cols}]\"\n",
        "\n",
        "    # Проверяем размеры проекции\n",
        "    assert X_proj.rows == X.rows and X_proj.cols == k_val, \\\n",
        "        f\"test_pca_auto_k: размер X_proj {X_proj.rows}×{X_proj.cols} не соответствует 4×{k_val}\"\n",
        "\n",
        "    # Проверяем долю объяснённой дисперсии лежит в [0,1]\n",
        "    assert 0.0 <= gamma <= 1.0, \\\n",
        "        f\"test_pca_auto_k: explained variance {gamma} вне диапазона [0,1]\"\n",
        "\n",
        "    print(\"test_pca_auto_k: all assertions passed\")"
      ],
      "metadata": {
        "id": "Dxd8wEikOBK_"
      },
      "execution_count": 33,
      "outputs": []
    },
    {
      "cell_type": "code",
      "source": [
        "test_pca_auto_k()"
      ],
      "metadata": {
        "id": "UOC-EzmxRXDt",
        "colab": {
          "base_uri": "https://localhost:8080/"
        },
        "outputId": "7d4e86b8-f4db-4174-cea0-0b41645c9890"
      },
      "execution_count": 34,
      "outputs": [
        {
          "output_type": "stream",
          "name": "stdout",
          "text": [
            "test_pca_auto_k: all assertions passed\n"
          ]
        }
      ]
    },
    {
      "cell_type": "markdown",
      "source": [
        "Тестирование обработки пропущенных значений"
      ],
      "metadata": {
        "id": "pTXeuFbsOfUW"
      }
    },
    {
      "cell_type": "code",
      "source": [
        "def test_handle_missing_values():\n",
        "    \"\"\"\n",
        "    Проверяет корректность функции handle_missing_values на данных с пропусками.\n",
        "    \"\"\"\n",
        "    data = [\n",
        "        [1.0,       2.0,        math.nan],\n",
        "        [2.0,       math.nan,   4.0],\n",
        "        [math.nan,  2.0,        6.0]\n",
        "    ]\n",
        "    X = Matrix(data)\n",
        "    Xf = handle_missing_values(X)\n",
        "\n",
        "    # Ожидаемые средние по столбцам: [1.5, 2.0, 5.0]\n",
        "    expected = [\n",
        "        [1.0, 2.0, 5.0],\n",
        "        [2.0, 2.0, 4.0],\n",
        "        [1.5, 2.0, 6.0]\n",
        "    ]\n",
        "\n",
        "    # Проверяем поэлементно\n",
        "    for i in range(Xf.rows):\n",
        "        for j in range(Xf.cols):\n",
        "            actual = Xf[i, j]\n",
        "            target = expected[i][j]\n",
        "            assert abs(actual - target) < 1e-12, \\\n",
        "                f\"test_handle_missing_values: element ({i},{j}) = {actual}, expected {target}\"\n",
        "\n",
        "    # Проверка, что не осталось NaN\n",
        "    for i in range(Xf.rows):\n",
        "        for j in range(Xf.cols):\n",
        "            assert not math.isnan(Xf[i, j]), \\\n",
        "                f\"test_handle_missing_values: NaN at ({i},{j})\"\n",
        "\n",
        "    print(\"test_handle_missing_values: all assertions passed\")"
      ],
      "metadata": {
        "id": "SKCIJ1DIOe05"
      },
      "execution_count": 35,
      "outputs": []
    },
    {
      "cell_type": "code",
      "source": [
        "test_handle_missing_values()"
      ],
      "metadata": {
        "id": "u8p3qM-XRpLB",
        "colab": {
          "base_uri": "https://localhost:8080/"
        },
        "outputId": "fb8c5ee2-6496-4ee0-fe7b-dcea2b38ba39"
      },
      "execution_count": 36,
      "outputs": [
        {
          "output_type": "stream",
          "name": "stdout",
          "text": [
            "test_handle_missing_values: all assertions passed\n"
          ]
        }
      ]
    },
    {
      "cell_type": "markdown",
      "source": [
        "Тестирование визуализации"
      ],
      "metadata": {
        "id": "GM3KXC-HS835"
      }
    },
    {
      "cell_type": "code",
      "source": [
        "X_proj_data = [\n",
        "        [0.5, 1.0],\n",
        "        [1.5, 2.0],\n",
        "        [-0.2, 3.2]\n",
        "    ]\n",
        "X_proj = Matrix(X_proj_data)\n",
        "\n",
        "fig = plot_pca_projection(X_proj)\n",
        "plt.show()"
      ],
      "metadata": {
        "colab": {
          "base_uri": "https://localhost:8080/",
          "height": 564
        },
        "id": "DnpCEb959Fk9",
        "outputId": "734bc98d-6992-4e12-ca00-890885989082"
      },
      "execution_count": 37,
      "outputs": [
        {
          "output_type": "display_data",
          "data": {
            "text/plain": [
              "<Figure size 600x600 with 1 Axes>"
            ],
            "image/png": "[encoded data removed]"
          },
          "metadata": {}
        }
      ]
    },
    {
      "cell_type": "markdown",
      "source": [
        "## Применение и иследование PCA"
      ],
      "metadata": {
        "id": "tq3Pfg7ETAuA"
      }
    },
    {
      "cell_type": "markdown",
      "source": [
        "### 4.3 Задание (Expert): Исследовать влияние шума на PCA:"
      ],
      "metadata": {
        "id": "gizuUeQlLdIQ"
      }
    },
    {
      "cell_type": "code",
      "source": [
        "import math, random\n",
        "\n",
        "def add_noise_and_compare(X: 'Matrix', noise_level: float = 0.1) -> None:\n",
        "    \"\"\"\n",
        "    Выполняет PCA до и после добавления гауссовского шума к столбцам матрицы X.\n",
        "    Выводит информацию о числе компонент и объяснённой дисперсии.\n",
        "    \"\"\"\n",
        "    # Размерность\n",
        "    num_samples, num_features = X.rows, X.cols\n",
        "\n",
        "    # ----- PCA на оригинальных данных -----\n",
        "    proj_orig, var_ratio_orig, k_orig = pca(X)\n",
        "    print(f\"[Original]    k = {k_orig}, explained variance = {var_ratio_orig:.4f}\")\n",
        "\n",
        "    # ----- Статистика по столбцам для шума -----\n",
        "    # собираем значения каждого столбца\n",
        "    columns = [X.col(j) for j in range(num_features)]\n",
        "    # вычисляем среднее и СКО\n",
        "    means = []\n",
        "    sigmas = []\n",
        "    for col_vals in columns:\n",
        "        mean_val = sum(col_vals) / num_samples\n",
        "        means.append(mean_val)\n",
        "        # дисперсия по образцу\n",
        "        sq_diff = 0.0\n",
        "        for v in col_vals:\n",
        "            sq_diff += (v - mean_val) ** 2\n",
        "        sigma = math.sqrt(sq_diff / (num_samples - 1)) if num_samples > 1 else 0.0\n",
        "        sigmas.append(sigma)\n",
        "\n",
        "    # ----- Создаем зашумлённую копию -----\n",
        "    X_noisy = X.copy()\n",
        "    for i in range(num_samples):\n",
        "        for j in range(num_features):\n",
        "            noise = random.gauss(0.0, sigmas[j] * noise_level)\n",
        "            original_value = X_noisy[i, j]\n",
        "            X_noisy.set(i, j, original_value + noise)\n",
        "\n",
        "    # ----- PCA на зашумленных данных -----\n",
        "    proj_noisy, var_ratio_noisy, k_noisy = pca(X_noisy)\n",
        "    print(f\"[With Noise]  k = {k_noisy}, explained variance = {var_ratio_noisy:.4f}\")\n",
        "\n",
        "    # ----- Сравнение результатов -----\n",
        "    delta = var_ratio_noisy - var_ratio_orig\n",
        "    print(f\"Variance change: {delta:+.4f}\")\n",
        "    print(\"--------------------------------------------\")"
      ],
      "metadata": {
        "id": "rtHJ4jka9GX2"
      },
      "execution_count": 38,
      "outputs": []
    },
    {
      "cell_type": "code",
      "source": [
        "X_test = Matrix([\n",
        "        [1.0, 2.0, 3.0],\n",
        "        [1.5, 2.2, 2.9],\n",
        "        [2.0, 2.5, 3.2],\n",
        "        [4.0, 5.0, 6.0],\n",
        "        [4.1, 5.2, 5.8],\n",
        "        [4.2, 5.2, 5.9],\n",
        "        [7.2, 8.2, 8.9],\n",
        "        [7.5, 8.1, 8.7],\n",
        "        [7.8, 8.3, 8.8],\n",
        "        [7.9, 8.2, 8.5],\n",
        "    ])\n",
        "\n",
        "add_noise_and_compare(X_test, noise_level=0.2)"
      ],
      "metadata": {
        "colab": {
          "base_uri": "https://localhost:8080/"
        },
        "id": "FIAuBm3bA32a",
        "outputId": "55e1f15b-f480-4ed9-eabc-1ab185ea3fa6"
      },
      "execution_count": 39,
      "outputs": [
        {
          "output_type": "stream",
          "name": "stdout",
          "text": [
            "[Original]    k = 1, explained variance = 0.9958\n",
            "[With Noise]  k = 1, explained variance = 0.9679\n",
            "Variance change: -0.0279\n",
            "--------------------------------------------\n"
          ]
        }
      ]
    },
    {
      "cell_type": "markdown",
      "source": [
        "### Дополниительные функции для обучения модели"
      ],
      "metadata": {
        "id": "gvisKux5gwe4"
      }
    },
    {
      "cell_type": "code",
      "source": [
        "def train_test_split(X: Matrix, y: Matrix, test_size: float = 0.2, shuffle: bool = True):\n",
        "    \"\"\"\n",
        "    Разбивает данные X и метки y на обучающую и тестовую выборки.\n",
        "\n",
        "    Параметры:\n",
        "      X         — Matrix размером n×m\n",
        "      y         — Matrix размером n×1\n",
        "      test_size — доля данных для теста (0 < test_size < 1)\n",
        "      shuffle   — перемешивать ли перед разбиением\n",
        "\n",
        "    Возвращает:\n",
        "      X_train, y_train, X_test, y_test — четыре матрицы\n",
        "    \"\"\"\n",
        "    total_rows = X.rows\n",
        "    row_indices = list(range(total_rows))\n",
        "\n",
        "    # Перемешивание индексов при необходимости\n",
        "    if shuffle:\n",
        "        random.shuffle(row_indices)\n",
        "\n",
        "    # Определяем точку раздела\n",
        "    split_point = int(total_rows * (1 - test_size))\n",
        "    train_indices = row_indices[:split_point]\n",
        "    test_indices = row_indices[split_point:]\n",
        "\n",
        "    # Вспомогательная функция для извлечения подматрицы\n",
        "    def get_subset(mat: Matrix, indices: list) -> Matrix:\n",
        "        extracted = []\n",
        "        for r in indices:\n",
        "            current_row = []\n",
        "            for c in range(mat.cols):\n",
        "                current_row.append(mat[r, c])\n",
        "            extracted.append(current_row)\n",
        "        return Matrix(extracted)\n",
        "\n",
        "    X_train = get_subset(X, train_indices)\n",
        "    y_train = get_subset(y, train_indices)\n",
        "    X_test = get_subset(X, test_indices)\n",
        "    y_test = get_subset(y, test_indices)\n",
        "\n",
        "    return X_train, y_train, X_test, y_test\n"
      ],
      "metadata": {
        "id": "p2bwWoRrBqIL"
      },
      "execution_count": 40,
      "outputs": []
    },
    {
      "cell_type": "code",
      "source": [
        "def separate_features_target(data_matrix: Matrix) -> Tuple[Matrix, Matrix]:\n",
        "    \"\"\"\n",
        "    Делит входную матрицу на признаки и целевую переменную:\n",
        "    - X: все столбцы, кроме последнего\n",
        "    - y: последний столбец в виде отдельной матрицы\n",
        "    \"\"\"\n",
        "    total_rows = data_matrix.rows\n",
        "    total_cols = data_matrix.cols\n",
        "\n",
        "    features = []\n",
        "    targets = []\n",
        "\n",
        "    for row_index in range(total_rows):\n",
        "        # собираем значения всех признаков текущей строки\n",
        "        feat_row = []\n",
        "        for col_index in range(total_cols - 1):\n",
        "            feat_row.append(data_matrix[row_index, col_index])\n",
        "        features.append(feat_row)\n",
        "\n",
        "        # вытаскиваем целевой столбец\n",
        "        last_val = data_matrix[row_index, total_cols - 1]\n",
        "        targets.append([last_val])\n",
        "\n",
        "    X = Matrix(features)\n",
        "    y = Matrix(targets)\n",
        "    return X, y\n"
      ],
      "metadata": {
        "id": "nwf3TiAOrX__"
      },
      "execution_count": 41,
      "outputs": []
    },
    {
      "cell_type": "code",
      "source": [
        "def solve_system(A: Matrix, B: Matrix) -> List[float]:\n",
        "    \"\"\"\n",
        "    Решает систему линейных уравнений A x = B методом Гаусса.\n",
        "    Возвращает плоский список значений x.\n",
        "    \"\"\"\n",
        "    # Получаем список решений в виде столбцового вектора\n",
        "    solutions = gauss_solver(A, B)\n",
        "    if not solutions:\n",
        "        return []\n",
        "    vector = solutions[0]\n",
        "\n",
        "    # Преобразуем Matrix (n×1) в обычный список float\n",
        "    result = []\n",
        "    for row_idx in range(vector.rows):\n",
        "        result.append(vector[row_idx, 0])\n",
        "    return result"
      ],
      "metadata": {
        "id": "gP8aNHyUrcQo"
      },
      "execution_count": 42,
      "outputs": []
    },
    {
      "cell_type": "code",
      "source": [
        "def transform_pca(X: Matrix, W: Matrix, means: List[float]) -> Matrix:\n",
        "    \"\"\"\n",
        "    Применяет обученные параметры PCA к новым данным:\n",
        "    - центрирует X по вектору means\n",
        "    - проецирует на компоненты через умножение на W\n",
        "\n",
        "    Аргументы:\n",
        "      X     — Matrix размером n×m (новые образцы)\n",
        "      W     — Matrix размером m×k (матрица весов из PCA)\n",
        "      means — список длины m, содержащий средние обучающих признаков\n",
        "\n",
        "    Возвращает:\n",
        "      Matrix n×k — проекция новых данных\n",
        "    \"\"\"\n",
        "    num_rows = X.rows\n",
        "    num_cols = X.cols\n",
        "\n",
        "    # Центрирование по обученным средним\n",
        "    centered = []\n",
        "    for r in range(num_rows):\n",
        "        centered_row = []\n",
        "        for c in range(num_cols):\n",
        "            value = X[r, c] - means[c]\n",
        "            centered_row.append(value)\n",
        "        centered.append(centered_row)\n",
        "    centered_matrix = Matrix(centered)\n",
        "\n",
        "    # Проецируем на пространство главных компонент\n",
        "    projected = centered_matrix @ W\n",
        "    return projected"
      ],
      "metadata": {
        "id": "apPySjP7si6e"
      },
      "execution_count": 43,
      "outputs": []
    },
    {
      "cell_type": "code",
      "source": [
        "def add_intercept_column(X: Matrix) -> Matrix:\n",
        "    \"\"\"\n",
        "    Расширяет матрицу X добавлением столбца единиц слева.\n",
        "    На вход X размером n×m, возвращает Matrix размером n×(m+1).\n",
        "    \"\"\"\n",
        "    augmented_rows = []\n",
        "    for r in X.data:\n",
        "        # вставляем 1.0 в начало каждой строки\n",
        "        new_row = [1.0]\n",
        "        new_row.extend(r)\n",
        "        augmented_rows.append(new_row)\n",
        "    return Matrix(augmented_rows)\n",
        "\n",
        "\n",
        "def train_linear_regression(X: Matrix, y: Matrix) -> Matrix:\n",
        "    \"\"\"\n",
        "    Обучает линейную регрессию через нормальное уравнение:\n",
        "      w = (X_aug^T X_aug)^{-1} X_aug^T y\n",
        "    Возвращает вектор весов w размером (m+1)×1.\n",
        "    \"\"\"\n",
        "    # Формируем матрицу признаков с интерсептом\n",
        "    X_aug = add_intercept_column(X)\n",
        "\n",
        "    # Матрицы для нормального уравнения\n",
        "    Xt = X_aug.transpose()\n",
        "    gram = Xt @ X_aug       # (m+1)×(m+1)\n",
        "    rhs = Xt @ y            # (m+1)×1\n",
        "\n",
        "    # Решаем систему gram * w = rhs\n",
        "    coeffs = solve_system(gram, rhs)  # список float длины m+1\n",
        "\n",
        "    # Преобразуем в столбцовую матрицу\n",
        "    w_matrix = Matrix([[c] for c in coeffs])\n",
        "    return w_matrix\n",
        "\n",
        "\n",
        "def predict_linear_regression(X: Matrix, w: Matrix) -> Matrix:\n",
        "    \"\"\"\n",
        "    Делает прогноз по модели линейной регрессии:\n",
        "      y_pred = X_aug @ w\n",
        "    \"\"\"\n",
        "    # Добавляем столбец единиц\n",
        "    X_aug = add_intercept_column(X)\n",
        "    # Вычисляем прогнозы\n",
        "    predictions = X_aug @ w  # возвращает Matrix n×1\n",
        "    return predictions\n",
        "\n",
        "\n",
        "def mse(y_true: Matrix, y_pred: Matrix) -> float:\n",
        "    \"\"\"\n",
        "    Вычисляет среднеквадратичную ошибку между y_true и y_pred.\n",
        "    Ожидаются оба размера n×1.\n",
        "    \"\"\"\n",
        "    n = y_true.rows\n",
        "    if y_pred.rows != n or y_pred.cols != 1:\n",
        "        raise ValueError(\"Размеры y_true и y_pred должны совпадать и быть столбцами\")\n",
        "\n",
        "    # Сумма квадратов отклонений\n",
        "    total_sq_err = 0.0\n",
        "    for idx in range(n):\n",
        "        diff = y_true[idx, 0] - y_pred[idx, 0]\n",
        "        total_sq_err += diff * diff\n",
        "\n",
        "    # Возвращаем среднее\n",
        "    return total_sq_err / n"
      ],
      "metadata": {
        "id": "lh1m6OaHBvyY"
      },
      "execution_count": 44,
      "outputs": []
    },
    {
      "cell_type": "markdown",
      "source": [
        "### 4.4. Задание (Expert): Применить PCA к реальному датасету"
      ],
      "metadata": {
        "id": "Hxtg7zq5MqZU"
      }
    },
    {
      "cell_type": "markdown",
      "source": [
        "Считывания далтасета"
      ],
      "metadata": {
        "id": "EF8UoCm6TSEj"
      }
    },
    {
      "cell_type": "code",
      "source": [
        "def load_iris_csv(file_path: str) -> 'Matrix':\n",
        "    \"\"\"\n",
        "    Загружает набор Iris из CSV-файла.\n",
        "    Возвращает данные в виде Matrix, где последний столбец — числовая метка вида.\n",
        "    \"\"\"\n",
        "    # Маппинг названий классов на числа\n",
        "    label_map = {\n",
        "        \"Iris-setosa\": 1,\n",
        "        \"Iris-versicolor\": 2,\n",
        "        \"Iris-virginica\": 3\n",
        "    }\n",
        "    rows: List[List[float]] = []\n",
        "\n",
        "    with open(file_path, mode='r', encoding='utf-8') as f:\n",
        "        csv_reader = csv.reader(f)\n",
        "        # Пропускаем заголовок\n",
        "        next(csv_reader, None)\n",
        "\n",
        "        for line in csv_reader:\n",
        "            # Ожидаем минимум 6 полей: id + 4 признака + label\n",
        "            if len(line) < 6:\n",
        "                continue\n",
        "            try:\n",
        "                # Парсим поля\n",
        "                idx = int(line[0])\n",
        "                features = [float(x) for x in line[1:5]]\n",
        "                species_str = line[5]\n",
        "                label = label_map.get(species_str)\n",
        "                if label is None:\n",
        "                    continue\n",
        "\n",
        "                # Формируем строку: [id, feat1..feat4, label]\n",
        "                record = [idx] + features + [label]\n",
        "                rows.append(record)\n",
        "            except (ValueError, IndexError):\n",
        "                # Если парсинг не удался — пропускаем строку\n",
        "                continue\n",
        "\n",
        "    return Matrix(rows)"
      ],
      "metadata": {
        "id": "OmUsRJmiA-jp"
      },
      "execution_count": 45,
      "outputs": []
    },
    {
      "cell_type": "markdown",
      "source": [
        "Применение Логистической регрессии вместе с PCA"
      ],
      "metadata": {
        "id": "RMkkxigef2ux"
      }
    },
    {
      "cell_type": "code",
      "source": [
        "def pca_from_lr(X: Matrix, k: int = None, threshold: float = 0.95) -> Tuple[Matrix, float, int, Matrix, List[float]]:\n",
        "    \"\"\"\n",
        "    Выполняет PCA и возвращает:\n",
        "      - X_proj: проекция (n×k)\n",
        "      - explained_var: доля объяснённой дисперсии\n",
        "      - k_final: число компонент\n",
        "      - W: матрица собственных векторов (m×k)\n",
        "      - means: вектор средних по признакам\n",
        "    \"\"\"\n",
        "    n_samples, n_features = X.rows, X.cols\n",
        "\n",
        "    # 1) Средние и центрирование\n",
        "    means = [sum(X.col(j)) / n_samples for j in range(n_features)]\n",
        "    centered = Matrix([[X[i,j] - means[j] for j in range(n_features)]\n",
        "                       for i in range(n_samples)])\n",
        "\n",
        "    # 2) Ковариационная матрица\n",
        "    C = covariance_matrix(centered)\n",
        "\n",
        "    # 3) Собственные значения и векторы\n",
        "    eig_vals = find_eigenvalues(C, tol=1e-6)\n",
        "    eig_vecs = find_eigenvectors(C, eig_vals)\n",
        "\n",
        "    # 4) Сортируем по убыванию собственных значений\n",
        "    indices = list(range(len(eig_vals)))\n",
        "    for a in range(len(indices)-1):\n",
        "        for b in range(a+1, len(indices)):\n",
        "            if eig_vals[indices[b]] > eig_vals[indices[a]]:\n",
        "                indices[a], indices[b] = indices[b], indices[a]\n",
        "\n",
        "    sorted_vals = [eig_vals[i] for i in indices]\n",
        "    sorted_vecs = [eig_vecs[i] for i in indices]\n",
        "\n",
        "    # 5) Выбираем k\n",
        "    if k is None:\n",
        "        k = auto_select_k(sorted_vals, threshold)\n",
        "    # гарантируем 1 ≤ k ≤ числу найденных значений\n",
        "    k = max(1, min(k, len(sorted_vals)))\n",
        "\n",
        "    # 6) Строим W (m×k)\n",
        "    W = Matrix([[sorted_vecs[j][i,0] for j in range(k)]\n",
        "                for i in range(n_features)])\n",
        "\n",
        "    # 7) Проекция\n",
        "    X_proj = centered @ W\n",
        "\n",
        "    # 8) Объяснённая дисперсия\n",
        "    total_variance = sum(sorted_vals)\n",
        "    explained = sum(sorted_vals[:k])\n",
        "    explained_var = explained/total_variance if abs(total_variance)>1e-14 else 1.0\n",
        "\n",
        "    return X_proj, explained_var, k, W, means"
      ],
      "metadata": {
        "id": "meR9VnwIf3Lj"
      },
      "execution_count": 46,
      "outputs": []
    },
    {
      "cell_type": "markdown",
      "source": [
        "Применение PCA к датасету"
      ],
      "metadata": {
        "id": "jrrO1XFvTUkF"
      }
    },
    {
      "cell_type": "code",
      "source": [
        "def apply_pca_to_dataset(dataset_path: str, k: int) -> Tuple[Matrix, float]:\n",
        "    \"\"\"\n",
        "    Загружает CSV, выполняет разделение, PCA и линейную регрессию,\n",
        "    сравнивает качество до и после снижения размерности.\n",
        "\n",
        "    Параметры:\n",
        "      dataset_path — путь к файлу CSV с данными Iris\n",
        "      k            — число компонент для PCA\n",
        "\n",
        "    Возвращает:\n",
        "      X_proj — проекция всех образцов (n×k)\n",
        "      gamma  — доля объяснённой дисперсии при выборе k компонент\n",
        "    \"\"\"\n",
        "    # 1) Загрузка и распаковка набора данных\n",
        "    full_matrix = load_iris_csv(dataset_path)\n",
        "    features, target = separate_features_target(full_matrix)\n",
        "\n",
        "    # 2) Формирование списков объектов для разбиения\n",
        "    num_samples = features.rows\n",
        "    feature_rows = [features.row(i) for i in range(num_samples)]\n",
        "    target_rows = [target.row(i) for i in range(num_samples)]\n",
        "\n",
        "    # 3) Делим вручную на train/test (80/20)\n",
        "    split_pt = int(num_samples * 0.8)\n",
        "    X_tr = Matrix(feature_rows[:split_pt])\n",
        "    X_te = Matrix(feature_rows[split_pt:])\n",
        "    y_tr = Matrix(target_rows[:split_pt])\n",
        "    y_te = Matrix(target_rows[split_pt:])\n",
        "\n",
        "    # 4) PCA на обучающей части\n",
        "    X_tr_proj, explained_var, used_k, W, mu = pca_from_lr(X_tr, k)\n",
        "\n",
        "    # 5) Преобразуем тестовые данные по тем же компонентам\n",
        "    X_te_proj = transform_pca(X_te, W, mu)\n",
        "\n",
        "    # 6) Обучение и оценка линейной регрессии без PCA\n",
        "    w_plain = train_linear_regression(X_tr, y_tr)\n",
        "    y_pred_plain = predict_linear_regression(X_te, w_plain)\n",
        "    mse_plain = mse(y_te, y_pred_plain)\n",
        "\n",
        "    # 7) Обучение и оценка с PCA-признаками\n",
        "    w_pca = train_linear_regression(X_tr_proj, y_tr)\n",
        "    y_pred_pca = predict_linear_regression(X_te_proj, w_pca)\n",
        "    mse_pca = mse(y_te, y_pred_pca)\n",
        "\n",
        "    # 8) Вывод результатов\n",
        "    print(f\"Dataset: {dataset_path}\")\n",
        "    print(f\"Original shape: ({features.rows}, {features.cols})\")\n",
        "    print(f\"PCA components: k={used_k}, explained variance={explained_var:.4f}\")\n",
        "    print(f\"Projected shape: ({X_tr_proj.rows + X_te_proj.rows}, {used_k})\")\n",
        "    print(\"Regression MSE:\")\n",
        "    print(f\"  Without PCA: {mse_plain:.4f}\")\n",
        "    print(f\"  With    PCA: {mse_pca:.4f}\")\n",
        "\n",
        "    # 9) Возвращаем проекцию всего набора и долю дисперсии\n",
        "    all_proj = Matrix([*X_tr_proj.data, *X_te_proj.data])\n",
        "    return all_proj, explained_var"
      ],
      "metadata": {
        "id": "GODmGuzFMnls"
      },
      "execution_count": 47,
      "outputs": []
    },
    {
      "cell_type": "markdown",
      "source": [
        "Тестирование времени поиска собственных значений"
      ],
      "metadata": {
        "id": "6bbWrGZXf7yr"
      }
    },
    {
      "cell_type": "code",
      "source": [
        "import time\n",
        "import matplotlib.pyplot as plt\n",
        "import random\n",
        "\n",
        "def generate_random_matrix(n: int) -> Matrix:\n",
        "    \"\"\"\n",
        "    Возвращает Matrix размера n×n с равномерно распределёнными случайными числами [0,1).\n",
        "    \"\"\"\n",
        "    data = []\n",
        "    for i in range(n):\n",
        "        row = []\n",
        "        for j in range(n):\n",
        "            row.append(random.random())\n",
        "        data.append(row)\n",
        "    return Matrix(data)\n",
        "\n",
        "\n",
        "def test_time_find_eigen(max_n: int = 50, step: int = 10) -> None:\n",
        "    \"\"\"\n",
        "    Измеряет время выполнения функции find_eigenvalues\n",
        "    для квадратных матриц размерности от step до max_n с шагом step.\n",
        "    Строит график зависимости времени от n.\n",
        "    \"\"\"\n",
        "    sizes = []\n",
        "    times = []\n",
        "\n",
        "    n = step\n",
        "    while n <= max_n:\n",
        "        M = generate_random_matrix(n)\n",
        "        t0 = time.time()\n",
        "        _ = find_eigenvalues(M)\n",
        "        t1 = time.time()\n",
        "        elapsed = t1 - t0\n",
        "        sizes.append(n)\n",
        "        times.append(elapsed)\n",
        "        print(f\"n={n}, time={elapsed:.4f} s\")\n",
        "        n += step\n",
        "\n",
        "    # Построение графика\n",
        "    fig = plt.figure()\n",
        "    ax = fig.add_subplot(1, 1, 1)\n",
        "    ax.plot(sizes, times, marker='o')\n",
        "    ax.set_xlabel('Matrix dimension n')\n",
        "    ax.set_ylabel('Execution time (s)')\n",
        "    ax.set_title('Time complexity of find_eigenvalues')\n",
        "    ax.grid(True)\n",
        "    plt.show()\n"
      ],
      "metadata": {
        "id": "QMZEhWg-F58c"
      },
      "execution_count": 48,
      "outputs": []
    },
    {
      "cell_type": "code",
      "source": [
        "test_time_find_eigen(max_n=25, step=5)"
      ],
      "metadata": {
        "colab": {
          "base_uri": "https://localhost:8080/",
          "height": 557
        },
        "id": "bnVcEfN1F7Yo",
        "outputId": "5a07e71b-4822-40d1-8f14-dbf636f2f24a"
      },
      "execution_count": 49,
      "outputs": [
        {
          "output_type": "stream",
          "name": "stdout",
          "text": [
            "n=5, time=0.0458 s\n",
            "n=10, time=0.1317 s\n",
            "n=15, time=0.3447 s\n",
            "n=20, time=0.6699 s\n",
            "n=25, time=1.2447 s\n"
          ]
        },
        {
          "output_type": "display_data",
          "data": {
            "text/plain": [
              "<Figure size 640x480 with 1 Axes>"
            ],
            "image/png": "[encoded data removed]"
          },
          "metadata": {}
        }
      ]
    },
    {
      "cell_type": "code",
      "source": [
        "apply_pca_to_dataset('/content/Iris.csv', k = 2)"
      ],
      "metadata": {
        "colab": {
          "base_uri": "https://localhost:8080/"
        },
        "id": "2hVzFNS9B9JK",
        "outputId": "da31b951-b0a8-41ca-f02f-3b6a39a79258"
      },
      "execution_count": 51,
      "outputs": [
        {
          "output_type": "stream",
          "name": "stdout",
          "text": [
            "Dataset: /content/Iris.csv\n",
            "Original shape: (150, 5)\n",
            "PCA components: k=1, explained variance=1.0000\n",
            "Projected shape: (150, 1)\n",
            "Regression MSE:\n",
            "  Without PCA: 0.0420\n",
            "  With    PCA: 1.5625\n"
          ]
        },
        {
          "output_type": "execute_result",
          "data": {
            "text/plain": [
              "(<__main__.Matrix at 0x7f847852c210>, 1.0)"
            ]
          },
          "metadata": {},
          "execution_count": 51
        }
      ]
    }
  ]
}